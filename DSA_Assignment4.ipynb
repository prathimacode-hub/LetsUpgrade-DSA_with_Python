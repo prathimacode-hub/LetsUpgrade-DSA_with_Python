{
 "cells": [
  {
   "cell_type": "code",
   "execution_count": 2,
   "metadata": {},
   "outputs": [
    {
     "name": "stdout",
     "output_type": "stream",
     "text": [
      "The list of items are [2, 4, 6, 8, 10]\n",
      "enter item to find:8\n",
      "item found at position: 4\n"
     ]
    }
   ],
   "source": [
    "items = [2, 4, 6, 8, 10]\n",
    " \n",
    "print(\"The list of items are\", items)\n",
    " \n",
    "x = int(input(\"enter item to find:\"))\n",
    " \n",
    "i = flag = 0\n",
    " \n",
    "while i < len(items):\n",
    "    if items[i] == x:\n",
    "        flag = 1\n",
    "        break\n",
    " \n",
    "    i = i + 1\n",
    " \n",
    "if flag == 1:\n",
    "    print(\"item found at position:\", i + 1)\n",
    "else:\n",
    "    print(\"item not found\")"
   ]
  }
 ],
 "metadata": {
  "kernelspec": {
   "display_name": "Python 3",
   "language": "python",
   "name": "python3"
  },
  "language_info": {
   "codemirror_mode": {
    "name": "ipython",
    "version": 3
   },
   "file_extension": ".py",
   "mimetype": "text/x-python",
   "name": "python",
   "nbconvert_exporter": "python",
   "pygments_lexer": "ipython3",
   "version": "3.8.5"
  }
 },
 "nbformat": 4,
 "nbformat_minor": 4
}
