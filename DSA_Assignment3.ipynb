{
 "cells": [
  {
   "cell_type": "code",
   "execution_count": 3,
   "metadata": {},
   "outputs": [
    {
     "name": "stdout",
     "output_type": "stream",
     "text": [
      "Avengers 27th Apr 2012\n",
      "The Godfather 14th Mar 1972\n",
      "Thor 15th July 2010\n",
      "Iron Man 12th June 2010\n",
      "Avengers 27th Apr 2012\n",
      "The Godfather 14th Mar 1972\n",
      "Thor 15th July 2010\n"
     ]
    }
   ],
   "source": [
    "class MovieNode:\n",
    "  def __init__(self,movieName,relDate):\n",
    "    self.movieName = movieName\n",
    "    self.relDate = relDate\n",
    "    self.next = None\n",
    "    return\n",
    "\n",
    "class NetflixMovieList:\n",
    "  def __init__(self):\n",
    "    self.head = None\n",
    "    return\n",
    "  \n",
    "  def addMovie(self,movieName,relDate):\n",
    "    new_movie = MovieNode(movieName,relDate)\n",
    "    if self.head == None:\n",
    "      self.head = new_movie\n",
    "      return\n",
    "    new_movie.next = self.head\n",
    "    self.head = new_movie\n",
    "    return\n",
    "\n",
    "  def delMovie(self):\n",
    "    if self.head == None:\n",
    "      print(\"There are no movies in the list\")\n",
    "      return\n",
    "    temp = self.head\n",
    "    while temp != None:\n",
    "      if temp.next.next == None:\n",
    "        temp.next = None\n",
    "        return\n",
    "      temp = temp.next\n",
    "    return\n",
    "\n",
    "  def displayMovies(self):\n",
    "    if self.head == None:\n",
    "      print(\"No movies to show\")\n",
    "      return\n",
    "    temp = self.head\n",
    "    while temp != None:\n",
    "      print(temp.movieName, temp.relDate)\n",
    "      temp = temp.next\n",
    "    return\n",
    "\n",
    "movie_list = NetflixMovieList()\n",
    "movie_list.addMovie('Iron Man', '12th June 2010')\n",
    "movie_list.addMovie('Thor', '15th July 2010')\n",
    "movie_list.addMovie('The Godfather', '14th Mar 1972')\n",
    "movie_list.addMovie('Avengers', '27th Apr 2012')\n",
    "movie_list.displayMovies()\n",
    "\n",
    "movie_list.delMovie()\n",
    "movie_list.displayMovies()"
   ]
  }
 ],
 "metadata": {
  "kernelspec": {
   "display_name": "Python 3",
   "language": "python",
   "name": "python3"
  },
  "language_info": {
   "codemirror_mode": {
    "name": "ipython",
    "version": 3
   },
   "file_extension": ".py",
   "mimetype": "text/x-python",
   "name": "python",
   "nbconvert_exporter": "python",
   "pygments_lexer": "ipython3",
   "version": "3.8.5"
  }
 },
 "nbformat": 4,
 "nbformat_minor": 4
}
