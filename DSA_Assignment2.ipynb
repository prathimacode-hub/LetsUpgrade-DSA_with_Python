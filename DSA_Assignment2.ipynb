{
 "cells": [
  {
   "cell_type": "code",
   "execution_count": null,
   "metadata": {},
   "outputs": [],
   "source": [
    "# 1.Find the time complexity of the following Pseudo Code :\n",
    "#Problem:\n",
    "\n",
    "for( i = 1 ; i <= n ; i = i*2) \n",
    "            for( j = 1 ; j <= i ; j++)\n",
    "                 print(“Hello”)\n",
    "\n",
    "#Solution:\n",
    "O(n).\n",
    "\n",
    "# How it works:\n",
    "\n",
    "# 1+2+2**2+2**2**2+n\n",
    "# Now if we want to reach the last term in ‘m’ number of steps\n",
    "# We can give it as 2**m = n\n",
    "# And m = logn\n",
    "# Then sum will be = 1.((2**m – 1)/(2-1)) \n",
    "# Substitute m with logn\n",
    "# We now get (2**logn-1) which is equal to n-1 .\n",
    "# (n-1) is nothing but O(n).\n"
   ]
  }
 ],
 "metadata": {
  "kernelspec": {
   "display_name": "Python 3",
   "language": "python",
   "name": "python3"
  },
  "language_info": {
   "codemirror_mode": {
    "name": "ipython",
    "version": 3
   },
   "file_extension": ".py",
   "mimetype": "text/x-python",
   "name": "python",
   "nbconvert_exporter": "python",
   "pygments_lexer": "ipython3",
   "version": "3.8.5"
  }
 },
 "nbformat": 4,
 "nbformat_minor": 4
}
