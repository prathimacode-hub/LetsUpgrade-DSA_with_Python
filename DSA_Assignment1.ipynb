{
 "cells": [
  {
   "cell_type": "code",
   "execution_count": 9,
   "metadata": {},
   "outputs": [
    {
     "name": "stdout",
     "output_type": "stream",
     "text": [
      "Enter the first number5\n",
      "Enter the second number3\n",
      "The result of X to the power of Y is  125\n"
     ]
    }
   ],
   "source": [
    "#Write a python program that takes two numbers as the input such as X and Y and print the result of X^Y (X to the power of Y)\n",
    "\n",
    "# Method1\n",
    "\n",
    "#Take input numbers X and Y\n",
    "X = int(input(\"Enter the first number\"))\n",
    "Y = int(input(\"Enter the second number\"))\n",
    "\n",
    "#Stating result is X to the power of Y\n",
    "result = X ** Y\n",
    "\n",
    "# Prints the result\n",
    "print(\"The result of X to the power of Y is \", result)"
   ]
  },
  {
   "cell_type": "code",
   "execution_count": 3,
   "metadata": {},
   "outputs": [
    {
     "name": "stdout",
     "output_type": "stream",
     "text": [
      "Numbers divisible by 3 are [3, 9, 12, 18, 21]\n"
     ]
    }
   ],
   "source": [
    "#Write a python program to print the numbers in the list which are divisible by 3\n",
    "\n",
    "# Method1\n",
    "\n",
    "# Take the numbers in the list\n",
    "num_list = [1,3,7,9,11,12,14,16,18,19,21]\n",
    "\n",
    "# Filter using lambda\n",
    "result = list(filter(lambda x: (x % 3 == 0), num_list))\n",
    "\n",
    "# Prints the result\n",
    "print(\"Numbers divisible by 3 are\",result)"
   ]
  },
  {
   "cell_type": "code",
   "execution_count": 2,
   "metadata": {},
   "outputs": [
    {
     "name": "stdout",
     "output_type": "stream",
     "text": [
      "3 9 12 18 21 "
     ]
    }
   ],
   "source": [
    "#Write a python program to print the numbers in the list which are divisible by 3\n",
    "\n",
    "# Method2\n",
    "\n",
    "# Take the numbers in the list\n",
    "num_list = [1,3,7,9,11,12,14,16,18,19,21] \n",
    "  \n",
    "# Iterating each  and every number from list \n",
    "for num in num_list: \n",
    "      \n",
    "    # Check on condition\n",
    "    if num % 3 == 0: \n",
    "       print(num, end = \" \") "
   ]
  }
 ],
 "metadata": {
  "kernelspec": {
   "display_name": "Python 3",
   "language": "python",
   "name": "python3"
  },
  "language_info": {
   "codemirror_mode": {
    "name": "ipython",
    "version": 3
   },
   "file_extension": ".py",
   "mimetype": "text/x-python",
   "name": "python",
   "nbconvert_exporter": "python",
   "pygments_lexer": "ipython3",
   "version": "3.8.5"
  }
 },
 "nbformat": 4,
 "nbformat_minor": 4
}
